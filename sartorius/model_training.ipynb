{
 "cells": [
  {
   "cell_type": "code",
   "execution_count": 1,
   "metadata": {
    "colab": {
     "base_uri": "https://localhost:8080/"
    },
    "id": "SYBq99rnIrKL",
    "outputId": "c08eda4a-cf40-4417-820f-6979b7d3c888"
   },
   "outputs": [],
   "source": [
    "# !pip install cellpose"
   ]
  },
  {
   "cell_type": "code",
   "execution_count": null,
   "metadata": {
    "colab": {
     "base_uri": "https://localhost:8080/"
    },
    "id": "YKVha7qUHzOF",
    "outputId": "3e74edcd-970c-4c4f-f81f-91022de6fb43"
   },
   "outputs": [
    {
     "name": "stdout",
     "output_type": "stream",
     "text": [
      "Mounted at /content/drive\n"
     ]
    }
   ],
   "source": [
    "from google.colab import drive\n",
    "\n",
    "drive._mount('/content/drive')"
   ]
  },
  {
   "cell_type": "code",
   "execution_count": null,
   "metadata": {
    "id": "uygR9z1jH4TJ"
   },
   "outputs": [],
   "source": [
    "!cp drive/MyDrive/train.zip ."
   ]
  },
  {
   "cell_type": "code",
   "execution_count": null,
   "metadata": {
    "id": "8AHyrxnlIR9x"
   },
   "outputs": [],
   "source": [
    "!mkdir train"
   ]
  },
  {
   "cell_type": "code",
   "execution_count": 2,
   "metadata": {
    "colab": {
     "base_uri": "https://localhost:8080/"
    },
    "id": "kGRGJcKQIF6j",
    "outputId": "3ea305e6-aadb-401d-b9b8-ffd0ce7a3a0d"
   },
   "outputs": [],
   "source": [
    "!unzip train.zip -d train"
   ]
  },
  {
   "cell_type": "code",
   "execution_count": null,
   "metadata": {
    "colab": {
     "base_uri": "https://localhost:8080/"
    },
    "id": "9Eo0kmR9HyQp",
    "outputId": "9ff48d3c-2903-41cf-a425-36b0c60a498f"
   },
   "outputs": [
    {
     "data": {
      "text/plain": [
       "array(['shsy5y', 'astro', 'cort'], dtype=object)"
      ]
     },
     "execution_count": 6,
     "metadata": {},
     "output_type": "execute_result"
    }
   ],
   "source": [
    "import pandas as pd\n",
    "\n",
    "cell_types = pd.read_parquet('drive/MyDrive/kaggle/sartorius/train_types.parquet')\n",
    "cell_types['cell_type'].unique()"
   ]
  },
  {
   "cell_type": "code",
   "execution_count": null,
   "metadata": {
    "id": "HW1UvAv3KVGf"
   },
   "outputs": [],
   "source": [
    "sel_ids = cell_types.loc[cell_types['cell_type'] == 'shsy5y', 'id'].values"
   ]
  },
  {
   "cell_type": "code",
   "execution_count": null,
   "metadata": {
    "id": "xgbwtQ-IKXXj"
   },
   "outputs": [],
   "source": [
    "!mkdir train_by_type"
   ]
  },
  {
   "cell_type": "code",
   "execution_count": 3,
   "metadata": {
    "colab": {
     "base_uri": "https://localhost:8080/",
     "height": 49,
     "referenced_widgets": [
      "b3e175369b2b41da853929c4d64065c7",
      "c2493a62c53745729bf326699e814dd4",
      "225a1c58db844815b210cb971ff0a78f",
      "1e78caea3b724211ab45d3ffb0d7195e",
      "e634748cd23e437a834aa37fd2f13bdf",
      "2318731a71ae4e24b73d717978a36e62",
      "6849a43e04eb4c23ab126aff550032c9",
      "5af4a6620e3a4940ad3dc0f693f53054",
      "51a1b85735ec41d59ae7298e6e16366a",
      "7497be27945542ce8ade4d2deb0b9cec",
      "61c0246a1f324e198bd6330eb89d8db3"
     ]
    },
    "id": "1GDsPb23KYne",
    "outputId": "b15d51e0-8658-4fa1-f8d7-075152f808a6"
   },
   "outputs": [],
   "source": [
    "from shutil import copyfile\n",
    "from tqdm.auto import tqdm\n",
    "\n",
    "for id in tqdm(sel_ids):\n",
    "    copyfile(f'train/{id}.png', f'train_by_type/{id}.png')\n",
    "    copyfile(f'train/{id}_masks.tif', f'train_by_type/{id}_masks.tif')"
   ]
  },
  {
   "cell_type": "code",
   "execution_count": null,
   "metadata": {
    "id": "8RK5gFI8Njkf"
   },
   "outputs": [],
   "source": [
    "!mkdir drive/MyDrive/kaggle/sartorius/diam17_shsy5y_pretrain_all"
   ]
  },
  {
   "cell_type": "code",
   "execution_count": null,
   "metadata": {
    "id": "-rkoFgkxNll7"
   },
   "outputs": [],
   "source": [
    "!cp -r train_by_type drive/MyDrive/kaggle/sartorius/diam17_shsy5y_pretrain_all"
   ]
  },
  {
   "cell_type": "code",
   "execution_count": null,
   "metadata": {
    "colab": {
     "base_uri": "https://localhost:8080/"
    },
    "id": "-S1lRXqvJZru",
    "outputId": "a4b20107-fa46-4c7c-ef6f-dfbc5a86cfff"
   },
   "outputs": [
    {
     "name": "stdout",
     "output_type": "stream",
     "text": [
      "cellpose_residual_on_style_on_concatenation_off_train_2021_12_21_08_51_19.563849_epoch_1\n",
      "cellpose_residual_on_style_on_concatenation_off_train_2021_12_21_08_51_19.563849_epoch_1001\n",
      "cellpose_residual_on_style_on_concatenation_off_train_2021_12_21_08_51_19.563849_epoch_1251\n",
      "cellpose_residual_on_style_on_concatenation_off_train_2021_12_21_08_51_19.563849_epoch_1501\n",
      "cellpose_residual_on_style_on_concatenation_off_train_2021_12_21_08_51_19.563849_epoch_1751\n",
      "cellpose_residual_on_style_on_concatenation_off_train_2021_12_21_08_51_19.563849_epoch_1999\n",
      "cellpose_residual_on_style_on_concatenation_off_train_2021_12_21_08_51_19.563849_epoch_1999_size.npy\n",
      "cellpose_residual_on_style_on_concatenation_off_train_2021_12_21_08_51_19.563849_epoch_251\n",
      "cellpose_residual_on_style_on_concatenation_off_train_2021_12_21_08_51_19.563849_epoch_501\n",
      "cellpose_residual_on_style_on_concatenation_off_train_2021_12_21_08_51_19.563849_epoch_751\n"
     ]
    }
   ],
   "source": [
    "!ls drive/MyDrive/kaggle/sartorius/diam19_shsy5y_2000ep/models"
   ]
  },
  {
   "cell_type": "code",
   "execution_count": null,
   "metadata": {
    "colab": {
     "base_uri": "https://localhost:8080/"
    },
    "id": "dzBzUUpqI8Ql",
    "outputId": "043f5032-5005-4e03-819f-7b44ebb4ce9f"
   },
   "outputs": [
    {
     "name": "stdout",
     "output_type": "stream",
     "text": [
      "creating new log file\n",
      "2021-12-26 18:34:47,427 [INFO] WRITING LOG OUTPUT TO /root/.cellpose/run.log\n",
      "2021-12-26 18:34:57,401 [INFO] ** TORCH CUDA version installed and working. **\n",
      "2021-12-26 18:34:57,401 [INFO] >>>> using GPU\n",
      "Not all flows are present. Run flow generation again.\n",
      "2021-12-26 18:35:00,177 [INFO] >>>> pretrained model drive/MyDrive/kaggle/sartorius/diam19_shsy5y_2000ep/models/cellpose_residual_on_style_on_concatenation_off_train_2021_12_21_08_51_19.563849_epoch_1999 is being used\n",
      "2021-12-26 18:35:00,177 [INFO] >>>> during training rescaling images to fixed diameter of 30.0 pixels\n",
      "2021-12-26 18:35:00,177 [INFO] parsing model string cellpose_residual_on_style_on_concatenation_off_train_2021_12_21_08_51_19.563849_epoch_1999 to get cellpose options\n",
      "2021-12-26 18:35:01,589 [INFO] Training with rescale = 1.00\n",
      "2021-12-26 18:35:03,588 [INFO] train channels = 2\n",
      "2021-12-26 18:35:03,588 [INFO] NOTE: test data not provided OR labels incorrect OR not same number of channels as train data\n",
      "2021-12-26 18:35:03,588 [INFO] NOTE: computing flows for labels (could be done before to save time)\n",
      "100% 155/155 [00:17<00:00,  8.89it/s]\n",
      "2021-12-26 18:35:30,985 [INFO] >>> Using RAdam optimizer\n",
      "2021-12-26 18:35:32,001 [INFO] >>>> median diameter set to = 30\n",
      "2021-12-26 18:35:32,001 [INFO] >>>> training network with 2 channel input <<<<\n",
      "2021-12-26 18:35:32,001 [INFO] >>>> saving every 250 epochs\n",
      "2021-12-26 18:35:32,001 [INFO] >>>> LR: 0.10000, batch_size: 32, weight_decay: 0.00001\n",
      "2021-12-26 18:35:32,002 [INFO] >>>> ntrain = 155\n",
      "2021-12-26 18:35:32,002 [INFO] >>>> rescale is 1\n",
      "2021-12-26 18:35:32,002 [INFO] (2, 520, 704)\n",
      "2021-12-26 18:35:36,826 [INFO] Epoch 0, Time  4.8s, Loss 0.9720, LR 0.1000\n",
      "2021-12-26 18:35:40,773 [INFO] Epoch 1, Time  8.8s, Loss 0.9897, LR 0.1000\n",
      "2021-12-26 18:35:40,774 [INFO] saving network parameters to /content/drive/MyDrive/kaggle/sartorius/diam17_shsy5y_pretrain_all/train_by_type/models/cellpose_residual_on_style_on_concatenation_off_train_by_type_2021_12_26_18_35_30.984411_epoch_1\n",
      "2021-12-26 18:35:45,009 [INFO] Epoch 2, Time 13.0s, Loss 0.9117, LR 0.1000\n",
      "2021-12-26 18:35:49,205 [INFO] Epoch 3, Time 17.2s, Loss 0.9788, LR 0.1000\n",
      "2021-12-26 18:35:53,113 [INFO] Epoch 4, Time 21.1s, Loss 0.9218, LR 0.1000\n",
      "2021-12-26 18:35:56,934 [INFO] Epoch 5, Time 24.9s, Loss 0.8866, LR 0.1000\n",
      "2021-12-26 18:36:00,809 [INFO] Epoch 6, Time 28.8s, Loss 0.9107, LR 0.1000\n",
      "2021-12-26 18:36:04,633 [INFO] Epoch 7, Time 32.6s, Loss 0.9179, LR 0.1000\n",
      "2021-12-26 18:36:08,484 [INFO] Epoch 8, Time 36.5s, Loss 0.8592, LR 0.1000\n",
      "2021-12-26 18:36:12,234 [INFO] Epoch 9, Time 40.2s, Loss 0.7980, LR 0.1000\n",
      "2021-12-26 18:36:16,155 [INFO] Epoch 10, Time 44.2s, Loss 0.8339, LR 0.1000\n",
      "2021-12-26 18:36:53,997 [INFO] Epoch 20, Time 82.0s, Loss 0.7895, LR 0.1000\n",
      "2021-12-26 18:37:31,585 [INFO] Epoch 30, Time 119.6s, Loss 0.7629, LR 0.1000\n",
      "2021-12-26 18:38:08,432 [INFO] Epoch 40, Time 156.4s, Loss 0.7584, LR 0.1000\n",
      "2021-12-26 18:38:45,057 [INFO] Epoch 50, Time 193.1s, Loss 0.7424, LR 0.1000\n",
      "2021-12-26 18:39:21,687 [INFO] Epoch 60, Time 229.7s, Loss 0.7543, LR 0.1000\n",
      "2021-12-26 18:39:58,225 [INFO] Epoch 70, Time 266.2s, Loss 0.7169, LR 0.1000\n",
      "2021-12-26 18:40:34,706 [INFO] Epoch 80, Time 302.7s, Loss 0.7302, LR 0.1000\n",
      "2021-12-26 18:41:11,204 [INFO] Epoch 90, Time 339.2s, Loss 0.7229, LR 0.1000\n",
      "2021-12-26 18:41:47,648 [INFO] Epoch 100, Time 375.6s, Loss 0.7353, LR 0.1000\n",
      "2021-12-26 18:42:24,258 [INFO] Epoch 110, Time 412.3s, Loss 0.7157, LR 0.1000\n",
      "2021-12-26 18:43:00,991 [INFO] Epoch 120, Time 449.0s, Loss 0.7192, LR 0.1000\n",
      "2021-12-26 18:43:37,393 [INFO] Epoch 130, Time 485.4s, Loss 0.7271, LR 0.1000\n",
      "2021-12-26 18:44:14,037 [INFO] Epoch 140, Time 522.0s, Loss 0.7287, LR 0.1000\n",
      "2021-12-26 18:44:50,724 [INFO] Epoch 150, Time 558.7s, Loss 0.7180, LR 0.1000\n",
      "2021-12-26 18:45:27,192 [INFO] Epoch 160, Time 595.2s, Loss 0.7207, LR 0.1000\n",
      "2021-12-26 18:46:03,633 [INFO] Epoch 170, Time 631.6s, Loss 0.7102, LR 0.1000\n",
      "2021-12-26 18:46:40,082 [INFO] Epoch 180, Time 668.1s, Loss 0.7152, LR 0.1000\n",
      "2021-12-26 18:47:16,521 [INFO] Epoch 190, Time 704.5s, Loss 0.7106, LR 0.1000\n",
      "2021-12-26 18:47:52,997 [INFO] Epoch 200, Time 741.0s, Loss 0.7243, LR 0.1000\n",
      "2021-12-26 18:48:29,499 [INFO] Epoch 210, Time 777.5s, Loss 0.7129, LR 0.1000\n",
      "2021-12-26 18:49:06,049 [INFO] Epoch 220, Time 814.0s, Loss 0.7180, LR 0.1000\n",
      "2021-12-26 18:49:42,602 [INFO] Epoch 230, Time 850.6s, Loss 0.7187, LR 0.1000\n",
      "2021-12-26 18:50:19,044 [INFO] Epoch 240, Time 887.0s, Loss 0.7238, LR 0.1000\n",
      "2021-12-26 18:50:55,527 [INFO] Epoch 250, Time 923.5s, Loss 0.7182, LR 0.1000\n",
      "2021-12-26 18:50:59,196 [INFO] saving network parameters to /content/drive/MyDrive/kaggle/sartorius/diam17_shsy5y_pretrain_all/train_by_type/models/cellpose_residual_on_style_on_concatenation_off_train_by_type_2021_12_26_18_35_30.984411_epoch_251\n",
      "2021-12-26 18:51:32,288 [INFO] Epoch 260, Time 960.3s, Loss 0.7139, LR 0.1000\n",
      "2021-12-26 18:52:08,684 [INFO] Epoch 270, Time 996.7s, Loss 0.7037, LR 0.1000\n",
      "2021-12-26 18:52:45,036 [INFO] Epoch 280, Time 1033.0s, Loss 0.7181, LR 0.1000\n",
      "2021-12-26 18:53:21,408 [INFO] Epoch 290, Time 1069.4s, Loss 0.7195, LR 0.1000\n",
      "2021-12-26 18:53:57,824 [INFO] Epoch 300, Time 1105.8s, Loss 0.6988, LR 0.1000\n",
      "2021-12-26 18:54:34,317 [INFO] Epoch 310, Time 1142.3s, Loss 0.7160, LR 0.1000\n",
      "2021-12-26 18:55:10,925 [INFO] Epoch 320, Time 1178.9s, Loss 0.7003, LR 0.1000\n",
      "2021-12-26 18:55:47,417 [INFO] Epoch 330, Time 1215.4s, Loss 0.6952, LR 0.1000\n",
      "2021-12-26 18:56:23,931 [INFO] Epoch 340, Time 1251.9s, Loss 0.7146, LR 0.1000\n",
      "2021-12-26 18:57:00,336 [INFO] Epoch 350, Time 1288.3s, Loss 0.7100, LR 0.1000\n",
      "2021-12-26 18:57:36,818 [INFO] Epoch 360, Time 1324.8s, Loss 0.7111, LR 0.1000\n",
      "2021-12-26 18:58:13,297 [INFO] Epoch 370, Time 1361.3s, Loss 0.7060, LR 0.1000\n",
      "2021-12-26 18:58:49,767 [INFO] Epoch 380, Time 1397.8s, Loss 0.7013, LR 0.1000\n",
      "2021-12-26 18:59:26,236 [INFO] Epoch 390, Time 1434.2s, Loss 0.7104, LR 0.1000\n",
      "2021-12-26 19:00:02,737 [INFO] Epoch 400, Time 1470.7s, Loss 0.7200, LR 0.1000\n",
      "2021-12-26 19:00:39,228 [INFO] Epoch 410, Time 1507.2s, Loss 0.6928, LR 0.1000\n",
      "2021-12-26 19:01:15,686 [INFO] Epoch 420, Time 1543.7s, Loss 0.7049, LR 0.1000\n",
      "2021-12-26 19:01:52,163 [INFO] Epoch 430, Time 1580.2s, Loss 0.6923, LR 0.1000\n",
      "2021-12-26 19:02:28,620 [INFO] Epoch 440, Time 1616.6s, Loss 0.7068, LR 0.1000\n",
      "2021-12-26 19:03:05,032 [INFO] Epoch 450, Time 1653.0s, Loss 0.7232, LR 0.1000\n",
      "2021-12-26 19:03:41,475 [INFO] Epoch 460, Time 1689.5s, Loss 0.6949, LR 0.1000\n",
      "2021-12-26 19:04:17,916 [INFO] Epoch 470, Time 1725.9s, Loss 0.6965, LR 0.1000\n",
      "2021-12-26 19:04:54,315 [INFO] Epoch 480, Time 1762.3s, Loss 0.7052, LR 0.1000\n",
      "2021-12-26 19:05:30,760 [INFO] Epoch 490, Time 1798.8s, Loss 0.6912, LR 0.1000\n",
      "2021-12-26 19:06:07,174 [INFO] Epoch 500, Time 1835.2s, Loss 0.6912, LR 0.1000\n",
      "2021-12-26 19:06:10,819 [INFO] saving network parameters to /content/drive/MyDrive/kaggle/sartorius/diam17_shsy5y_pretrain_all/train_by_type/models/cellpose_residual_on_style_on_concatenation_off_train_by_type_2021_12_26_18_35_30.984411_epoch_501\n",
      "2021-12-26 19:06:43,669 [INFO] Epoch 510, Time 1871.7s, Loss 0.7074, LR 0.1000\n",
      "2021-12-26 19:07:20,115 [INFO] Epoch 520, Time 1908.1s, Loss 0.7057, LR 0.1000\n",
      "2021-12-26 19:07:56,429 [INFO] Epoch 530, Time 1944.4s, Loss 0.7011, LR 0.1000\n",
      "2021-12-26 19:08:32,813 [INFO] Epoch 540, Time 1980.8s, Loss 0.7075, LR 0.1000\n",
      "2021-12-26 19:09:09,191 [INFO] Epoch 550, Time 2017.2s, Loss 0.7024, LR 0.1000\n",
      "2021-12-26 19:09:45,527 [INFO] Epoch 560, Time 2053.5s, Loss 0.7112, LR 0.1000\n",
      "2021-12-26 19:10:22,098 [INFO] Epoch 570, Time 2090.1s, Loss 0.6943, LR 0.1000\n",
      "2021-12-26 19:10:58,438 [INFO] Epoch 580, Time 2126.4s, Loss 0.7098, LR 0.1000\n",
      "2021-12-26 19:11:34,944 [INFO] Epoch 590, Time 2162.9s, Loss 0.7067, LR 0.1000\n",
      "2021-12-26 19:12:11,340 [INFO] Epoch 600, Time 2199.3s, Loss 0.7103, LR 0.1000\n",
      "2021-12-26 19:12:47,702 [INFO] Epoch 610, Time 2235.7s, Loss 0.7019, LR 0.1000\n",
      "2021-12-26 19:13:24,137 [INFO] Epoch 620, Time 2272.1s, Loss 0.6941, LR 0.1000\n",
      "2021-12-26 19:14:00,665 [INFO] Epoch 630, Time 2308.7s, Loss 0.6975, LR 0.1000\n",
      "2021-12-26 19:14:37,080 [INFO] Epoch 640, Time 2345.1s, Loss 0.6804, LR 0.1000\n",
      "2021-12-26 19:15:13,459 [INFO] Epoch 650, Time 2381.5s, Loss 0.6895, LR 0.1000\n",
      "2021-12-26 19:15:49,815 [INFO] Epoch 660, Time 2417.8s, Loss 0.6978, LR 0.1000\n",
      "2021-12-26 19:16:26,179 [INFO] Epoch 670, Time 2454.2s, Loss 0.6945, LR 0.1000\n",
      "2021-12-26 19:17:02,704 [INFO] Epoch 680, Time 2490.7s, Loss 0.7008, LR 0.1000\n",
      "2021-12-26 19:17:39,233 [INFO] Epoch 690, Time 2527.2s, Loss 0.7010, LR 0.1000\n",
      "2021-12-26 19:18:15,655 [INFO] Epoch 700, Time 2563.7s, Loss 0.6898, LR 0.1000\n",
      "2021-12-26 19:18:52,065 [INFO] Epoch 710, Time 2600.1s, Loss 0.7013, LR 0.1000\n",
      "2021-12-26 19:19:28,347 [INFO] Epoch 720, Time 2636.3s, Loss 0.6925, LR 0.1000\n",
      "2021-12-26 19:20:04,870 [INFO] Epoch 730, Time 2672.9s, Loss 0.6979, LR 0.1000\n",
      "2021-12-26 19:20:41,375 [INFO] Epoch 740, Time 2709.4s, Loss 0.6986, LR 0.1000\n",
      "2021-12-26 19:21:18,030 [INFO] Epoch 750, Time 2746.0s, Loss 0.6921, LR 0.1000\n",
      "2021-12-26 19:21:21,658 [INFO] saving network parameters to /content/drive/MyDrive/kaggle/sartorius/diam17_shsy5y_pretrain_all/train_by_type/models/cellpose_residual_on_style_on_concatenation_off_train_by_type_2021_12_26_18_35_30.984411_epoch_751\n",
      "2021-12-26 19:21:54,734 [INFO] Epoch 760, Time 2782.7s, Loss 0.7068, LR 0.1000\n",
      "2021-12-26 19:22:31,213 [INFO] Epoch 770, Time 2819.2s, Loss 0.7004, LR 0.1000\n",
      "2021-12-26 19:23:07,704 [INFO] Epoch 780, Time 2855.7s, Loss 0.6954, LR 0.1000\n",
      "2021-12-26 19:23:44,125 [INFO] Epoch 790, Time 2892.1s, Loss 0.6863, LR 0.1000\n",
      "2021-12-26 19:24:20,643 [INFO] Epoch 800, Time 2928.6s, Loss 0.6875, LR 0.1000\n",
      "2021-12-26 19:24:57,078 [INFO] Epoch 810, Time 2965.1s, Loss 0.6976, LR 0.1000\n",
      "2021-12-26 19:25:33,463 [INFO] Epoch 820, Time 3001.5s, Loss 0.6909, LR 0.1000\n",
      "2021-12-26 19:26:09,886 [INFO] Epoch 830, Time 3037.9s, Loss 0.6800, LR 0.1000\n",
      "2021-12-26 19:26:46,373 [INFO] Epoch 840, Time 3074.4s, Loss 0.6884, LR 0.1000\n",
      "2021-12-26 19:27:22,927 [INFO] Epoch 850, Time 3110.9s, Loss 0.6897, LR 0.1000\n",
      "2021-12-26 19:27:59,379 [INFO] Epoch 860, Time 3147.4s, Loss 0.7023, LR 0.1000\n",
      "2021-12-26 19:28:35,706 [INFO] Epoch 870, Time 3183.7s, Loss 0.7051, LR 0.1000\n",
      "2021-12-26 19:29:12,056 [INFO] Epoch 880, Time 3220.1s, Loss 0.6885, LR 0.1000\n",
      "2021-12-26 19:29:48,754 [INFO] Epoch 890, Time 3256.8s, Loss 0.6882, LR 0.1000\n",
      "2021-12-26 19:30:25,335 [INFO] Epoch 900, Time 3293.3s, Loss 0.6869, LR 0.1000\n",
      "2021-12-26 19:31:01,590 [INFO] Epoch 910, Time 3329.6s, Loss 0.6918, LR 0.1000\n",
      "2021-12-26 19:31:38,014 [INFO] Epoch 920, Time 3366.0s, Loss 0.6786, LR 0.1000\n",
      "2021-12-26 19:32:14,361 [INFO] Epoch 930, Time 3402.4s, Loss 0.6782, LR 0.1000\n",
      "2021-12-26 19:32:50,691 [INFO] Epoch 940, Time 3438.7s, Loss 0.6960, LR 0.1000\n",
      "2021-12-26 19:33:27,017 [INFO] Epoch 950, Time 3475.0s, Loss 0.6862, LR 0.1000\n",
      "2021-12-26 19:34:03,450 [INFO] Epoch 960, Time 3511.4s, Loss 0.6870, LR 0.1000\n",
      "2021-12-26 19:34:39,839 [INFO] Epoch 970, Time 3547.8s, Loss 0.6961, LR 0.1000\n",
      "2021-12-26 19:35:16,221 [INFO] Epoch 980, Time 3584.2s, Loss 0.6931, LR 0.1000\n",
      "2021-12-26 19:35:52,589 [INFO] Epoch 990, Time 3620.6s, Loss 0.6853, LR 0.1000\n",
      "2021-12-26 19:36:28,904 [INFO] Epoch 1000, Time 3656.9s, Loss 0.6869, LR 0.1000\n",
      "2021-12-26 19:36:32,558 [INFO] saving network parameters to /content/drive/MyDrive/kaggle/sartorius/diam17_shsy5y_pretrain_all/train_by_type/models/cellpose_residual_on_style_on_concatenation_off_train_by_type_2021_12_26_18_35_30.984411_epoch_1001\n",
      "2021-12-26 19:37:05,531 [INFO] Epoch 1010, Time 3693.5s, Loss 0.6879, LR 0.1000\n",
      "2021-12-26 19:37:42,051 [INFO] Epoch 1020, Time 3730.0s, Loss 0.6978, LR 0.1000\n",
      "2021-12-26 19:38:18,428 [INFO] Epoch 1030, Time 3766.4s, Loss 0.6914, LR 0.1000\n",
      "2021-12-26 19:38:54,779 [INFO] Epoch 1040, Time 3802.8s, Loss 0.7006, LR 0.1000\n",
      "2021-12-26 19:39:31,170 [INFO] Epoch 1050, Time 3839.2s, Loss 0.6823, LR 0.1000\n",
      "2021-12-26 19:40:07,467 [INFO] Epoch 1060, Time 3875.5s, Loss 0.7049, LR 0.1000\n",
      "2021-12-26 19:40:43,779 [INFO] Epoch 1070, Time 3911.8s, Loss 0.6956, LR 0.1000\n",
      "2021-12-26 19:41:20,201 [INFO] Epoch 1080, Time 3948.2s, Loss 0.6885, LR 0.1000\n",
      "2021-12-26 19:41:56,545 [INFO] Epoch 1090, Time 3984.5s, Loss 0.6918, LR 0.1000\n",
      "2021-12-26 19:42:33,073 [INFO] Epoch 1100, Time 4021.1s, Loss 0.6920, LR 0.1000\n",
      "2021-12-26 19:43:09,597 [INFO] Epoch 1110, Time 4057.6s, Loss 0.6815, LR 0.1000\n",
      "2021-12-26 19:43:46,113 [INFO] Epoch 1120, Time 4094.1s, Loss 0.6918, LR 0.1000\n",
      "2021-12-26 19:44:22,546 [INFO] Epoch 1130, Time 4130.5s, Loss 0.6903, LR 0.1000\n",
      "2021-12-26 19:44:59,009 [INFO] Epoch 1140, Time 4167.0s, Loss 0.6891, LR 0.1000\n",
      "2021-12-26 19:45:35,437 [INFO] Epoch 1150, Time 4203.4s, Loss 0.6805, LR 0.1000\n",
      "2021-12-26 19:46:11,797 [INFO] Epoch 1160, Time 4239.8s, Loss 0.6875, LR 0.1000\n",
      "2021-12-26 19:46:48,268 [INFO] Epoch 1170, Time 4276.3s, Loss 0.6902, LR 0.1000\n",
      "2021-12-26 19:47:24,615 [INFO] Epoch 1180, Time 4312.6s, Loss 0.6886, LR 0.1000\n",
      "2021-12-26 19:48:01,034 [INFO] Epoch 1190, Time 4349.0s, Loss 0.6796, LR 0.1000\n",
      "2021-12-26 19:48:37,488 [INFO] Epoch 1200, Time 4385.5s, Loss 0.6830, LR 0.1000\n",
      "2021-12-26 19:49:13,922 [INFO] Epoch 1210, Time 4421.9s, Loss 0.6840, LR 0.1000\n",
      "2021-12-26 19:49:50,312 [INFO] Epoch 1220, Time 4458.3s, Loss 0.6810, LR 0.1000\n",
      "2021-12-26 19:50:26,680 [INFO] Epoch 1230, Time 4494.7s, Loss 0.6881, LR 0.1000\n",
      "2021-12-26 19:51:03,208 [INFO] Epoch 1240, Time 4531.2s, Loss 0.6802, LR 0.1000\n",
      "2021-12-26 19:51:39,734 [INFO] Epoch 1250, Time 4567.7s, Loss 0.6872, LR 0.1000\n",
      "2021-12-26 19:51:43,393 [INFO] saving network parameters to /content/drive/MyDrive/kaggle/sartorius/diam17_shsy5y_pretrain_all/train_by_type/models/cellpose_residual_on_style_on_concatenation_off_train_by_type_2021_12_26_18_35_30.984411_epoch_1251\n",
      "2021-12-26 19:52:16,369 [INFO] Epoch 1260, Time 4604.4s, Loss 0.6720, LR 0.1000\n",
      "2021-12-26 19:52:52,704 [INFO] Epoch 1270, Time 4640.7s, Loss 0.6823, LR 0.1000\n",
      "2021-12-26 19:53:29,072 [INFO] Epoch 1280, Time 4677.1s, Loss 0.6932, LR 0.1000\n",
      "2021-12-26 19:54:05,419 [INFO] Epoch 1290, Time 4713.4s, Loss 0.6955, LR 0.1000\n",
      "2021-12-26 19:54:41,838 [INFO] Epoch 1300, Time 4749.8s, Loss 0.6657, LR 0.1000\n",
      "2021-12-26 19:55:18,188 [INFO] Epoch 1310, Time 4786.2s, Loss 0.6983, LR 0.1000\n",
      "2021-12-26 19:55:54,542 [INFO] Epoch 1320, Time 4822.5s, Loss 0.6730, LR 0.1000\n",
      "2021-12-26 19:56:30,894 [INFO] Epoch 1330, Time 4858.9s, Loss 0.6928, LR 0.1000\n",
      "2021-12-26 19:57:07,246 [INFO] Epoch 1340, Time 4895.2s, Loss 0.6753, LR 0.1000\n",
      "2021-12-26 19:57:43,510 [INFO] Epoch 1350, Time 4931.5s, Loss 0.6783, LR 0.1000\n",
      "2021-12-26 19:58:19,681 [INFO] Epoch 1360, Time 4967.7s, Loss 0.6868, LR 0.1000\n",
      "2021-12-26 19:58:55,974 [INFO] Epoch 1370, Time 5004.0s, Loss 0.6825, LR 0.1000\n",
      "2021-12-26 19:59:32,317 [INFO] Epoch 1380, Time 5040.3s, Loss 0.6901, LR 0.1000\n",
      "2021-12-26 20:00:08,690 [INFO] Epoch 1390, Time 5076.7s, Loss 0.6785, LR 0.1000\n",
      "2021-12-26 20:00:45,113 [INFO] Epoch 1400, Time 5113.1s, Loss 0.6847, LR 0.1000\n",
      "2021-12-26 20:01:21,453 [INFO] Epoch 1410, Time 5149.5s, Loss 0.6820, LR 0.1000\n",
      "2021-12-26 20:01:57,681 [INFO] Epoch 1420, Time 5185.7s, Loss 0.6825, LR 0.1000\n",
      "2021-12-26 20:02:33,976 [INFO] Epoch 1430, Time 5222.0s, Loss 0.6723, LR 0.1000\n",
      "2021-12-26 20:03:10,466 [INFO] Epoch 1440, Time 5258.5s, Loss 0.6745, LR 0.1000\n",
      "2021-12-26 20:03:46,953 [INFO] Epoch 1450, Time 5295.0s, Loss 0.6834, LR 0.1000\n",
      "2021-12-26 20:04:23,167 [INFO] Epoch 1460, Time 5331.2s, Loss 0.6819, LR 0.1000\n",
      "2021-12-26 20:04:59,428 [INFO] Epoch 1470, Time 5367.4s, Loss 0.6799, LR 0.1000\n",
      "2021-12-26 20:05:36,179 [INFO] Epoch 1480, Time 5404.2s, Loss 0.6751, LR 0.1000\n",
      "2021-12-26 20:06:12,798 [INFO] Epoch 1490, Time 5440.8s, Loss 0.6813, LR 0.1000\n",
      "2021-12-26 20:06:49,230 [INFO] Epoch 1500, Time 5477.2s, Loss 0.6805, LR 0.1000\n",
      "2021-12-26 20:06:52,854 [INFO] saving network parameters to /content/drive/MyDrive/kaggle/sartorius/diam17_shsy5y_pretrain_all/train_by_type/models/cellpose_residual_on_style_on_concatenation_off_train_by_type_2021_12_26_18_35_30.984411_epoch_1501\n",
      "2021-12-26 20:07:25,988 [INFO] Epoch 1510, Time 5514.0s, Loss 0.6716, LR 0.1000\n",
      "2021-12-26 20:08:02,609 [INFO] Epoch 1520, Time 5550.6s, Loss 0.6820, LR 0.1000\n",
      "2021-12-26 20:08:39,084 [INFO] Epoch 1530, Time 5587.1s, Loss 0.6885, LR 0.1000\n",
      "2021-12-26 20:09:15,585 [INFO] Epoch 1540, Time 5623.6s, Loss 0.6712, LR 0.1000\n",
      "2021-12-26 20:09:52,114 [INFO] Epoch 1550, Time 5660.1s, Loss 0.6888, LR 0.1000\n",
      "2021-12-26 20:10:28,584 [INFO] Epoch 1560, Time 5696.6s, Loss 0.6746, LR 0.1000\n",
      "2021-12-26 20:11:05,068 [INFO] Epoch 1570, Time 5733.1s, Loss 0.6824, LR 0.1000\n",
      "2021-12-26 20:11:41,565 [INFO] Epoch 1580, Time 5769.6s, Loss 0.6841, LR 0.1000\n",
      "2021-12-26 20:12:17,933 [INFO] Epoch 1590, Time 5805.9s, Loss 0.6777, LR 0.1000\n",
      "2021-12-26 20:12:54,551 [INFO] Epoch 1600, Time 5842.5s, Loss 0.6798, LR 0.1000\n",
      "2021-12-26 20:13:30,950 [INFO] Epoch 1610, Time 5878.9s, Loss 0.6761, LR 0.1000\n",
      "2021-12-26 20:14:07,269 [INFO] Epoch 1620, Time 5915.3s, Loss 0.6826, LR 0.1000\n",
      "2021-12-26 20:14:43,724 [INFO] Epoch 1630, Time 5951.7s, Loss 0.6785, LR 0.1000\n",
      "2021-12-26 20:15:20,093 [INFO] Epoch 1640, Time 5988.1s, Loss 0.6709, LR 0.1000\n",
      "2021-12-26 20:15:56,539 [INFO] Epoch 1650, Time 6024.5s, Loss 0.6754, LR 0.1000\n",
      "2021-12-26 20:16:32,847 [INFO] Epoch 1660, Time 6060.8s, Loss 0.6859, LR 0.1000\n",
      "2021-12-26 20:17:09,086 [INFO] Epoch 1670, Time 6097.1s, Loss 0.6681, LR 0.1000\n",
      "2021-12-26 20:17:45,481 [INFO] Epoch 1680, Time 6133.5s, Loss 0.6712, LR 0.1000\n",
      "2021-12-26 20:18:22,151 [INFO] Epoch 1690, Time 6170.1s, Loss 0.6703, LR 0.1000\n",
      "2021-12-26 20:18:58,841 [INFO] Epoch 1700, Time 6206.8s, Loss 0.6812, LR 0.1000\n",
      "2021-12-26 20:19:35,285 [INFO] Epoch 1710, Time 6243.3s, Loss 0.6706, LR 0.1000\n",
      "2021-12-26 20:20:11,767 [INFO] Epoch 1720, Time 6279.8s, Loss 0.6801, LR 0.1000\n",
      "2021-12-26 20:20:48,422 [INFO] Epoch 1730, Time 6316.4s, Loss 0.6766, LR 0.1000\n",
      "2021-12-26 20:21:24,911 [INFO] Epoch 1740, Time 6352.9s, Loss 0.6790, LR 0.1000\n",
      "2021-12-26 20:22:01,299 [INFO] Epoch 1750, Time 6389.3s, Loss 0.6768, LR 0.1000\n",
      "2021-12-26 20:22:04,908 [INFO] saving network parameters to /content/drive/MyDrive/kaggle/sartorius/diam17_shsy5y_pretrain_all/train_by_type/models/cellpose_residual_on_style_on_concatenation_off_train_by_type_2021_12_26_18_35_30.984411_epoch_1751\n",
      "2021-12-26 20:22:38,023 [INFO] Epoch 1760, Time 6426.0s, Loss 0.6755, LR 0.1000\n",
      "2021-12-26 20:23:14,465 [INFO] Epoch 1770, Time 6462.5s, Loss 0.6735, LR 0.1000\n",
      "2021-12-26 20:23:51,001 [INFO] Epoch 1780, Time 6499.0s, Loss 0.6636, LR 0.1000\n",
      "2021-12-26 20:24:27,538 [INFO] Epoch 1790, Time 6535.5s, Loss 0.6804, LR 0.1000\n",
      "2021-12-26 20:25:04,218 [INFO] Epoch 1800, Time 6572.2s, Loss 0.6772, LR 0.1000\n",
      "2021-12-26 20:25:40,937 [INFO] Epoch 1810, Time 6608.9s, Loss 0.6714, LR 0.1000\n",
      "2021-12-26 20:26:17,704 [INFO] Epoch 1820, Time 6645.7s, Loss 0.6627, LR 0.1000\n",
      "2021-12-26 20:26:54,483 [INFO] Epoch 1830, Time 6682.5s, Loss 0.6909, LR 0.1000\n",
      "2021-12-26 20:27:31,247 [INFO] Epoch 1840, Time 6719.2s, Loss 0.6599, LR 0.1000\n",
      "2021-12-26 20:28:08,026 [INFO] Epoch 1850, Time 6756.0s, Loss 0.6810, LR 0.1000\n",
      "2021-12-26 20:28:44,634 [INFO] Epoch 1860, Time 6792.6s, Loss 0.6665, LR 0.1000\n",
      "2021-12-26 20:29:21,103 [INFO] Epoch 1870, Time 6829.1s, Loss 0.6759, LR 0.1000\n",
      "2021-12-26 20:29:57,537 [INFO] Epoch 1880, Time 6865.5s, Loss 0.6717, LR 0.1000\n",
      "2021-12-26 20:30:34,055 [INFO] Epoch 1890, Time 6902.1s, Loss 0.6734, LR 0.1000\n",
      "2021-12-26 20:31:10,633 [INFO] Epoch 1900, Time 6938.6s, Loss 0.6697, LR 0.1000\n",
      "2021-12-26 20:31:47,234 [INFO] Epoch 1910, Time 6975.2s, Loss 0.6656, LR 0.1000\n",
      "2021-12-26 20:32:23,673 [INFO] Epoch 1920, Time 7011.7s, Loss 0.6600, LR 0.1000\n",
      "2021-12-26 20:33:00,263 [INFO] Epoch 1930, Time 7048.3s, Loss 0.6867, LR 0.1000\n",
      "2021-12-26 20:33:36,721 [INFO] Epoch 1940, Time 7084.7s, Loss 0.6793, LR 0.1000\n",
      "2021-12-26 20:34:13,210 [INFO] Epoch 1950, Time 7121.2s, Loss 0.6722, LR 0.1000\n",
      "2021-12-26 20:34:49,713 [INFO] Epoch 1960, Time 7157.7s, Loss 0.6694, LR 0.1000\n",
      "2021-12-26 20:35:26,282 [INFO] Epoch 1970, Time 7194.3s, Loss 0.6652, LR 0.1000\n",
      "2021-12-26 20:36:02,665 [INFO] Epoch 1980, Time 7230.7s, Loss 0.6743, LR 0.1000\n",
      "2021-12-26 20:36:39,157 [INFO] Epoch 1990, Time 7267.2s, Loss 0.6557, LR 0.1000\n",
      "2021-12-26 20:37:12,029 [INFO] saving network parameters to /content/drive/MyDrive/kaggle/sartorius/diam17_shsy5y_pretrain_all/train_by_type/models/cellpose_residual_on_style_on_concatenation_off_train_by_type_2021_12_26_18_35_30.984411_epoch_1999\n",
      "2021-12-26 20:37:12,291 [INFO] >>>> model trained and saved to /content/drive/MyDrive/kaggle/sartorius/diam17_shsy5y_pretrain_all/train_by_type/models/cellpose_residual_on_style_on_concatenation_off_train_by_type_2021_12_26_18_35_30.984411_epoch_1999\n"
     ]
    }
   ],
   "source": [
    "!python -m cellpose --train \\\n",
    "  --dir drive/MyDrive/kaggle/sartorius/diam17_shsy5y_pretrain_all/train_by_type \\\n",
    "  --pretrained_model drive/MyDrive/kaggle/sartorius/diam19_shsy5y_2000ep/models/cellpose_residual_on_style_on_concatenation_off_train_2021_12_21_08_51_19.563849_epoch_1999 \\\n",
    "  --use_gpu --batch_size 32 --diameter 17 \\\n",
    "  --save_every 250 --save_each --n_epochs 2000 \\\n",
    "  --learning_rate 0.1"
   ]
  },
  {
   "cell_type": "code",
   "execution_count": null,
   "metadata": {
    "id": "CW6a5SxbR5Q6"
   },
   "outputs": [],
   "source": [
    "!mkdir drive/MyDrive/kaggle/sartorius/diam30_astro_2000_ep"
   ]
  },
  {
   "cell_type": "code",
   "execution_count": null,
   "metadata": {
    "id": "ZOul4SNOxQa2"
   },
   "outputs": [],
   "source": [
    "!cp -r train_by_type/models drive/MyDrive/kaggle/sartorius/diam30_astro_2000_ep"
   ]
  },
  {
   "cell_type": "code",
   "execution_count": null,
   "metadata": {
    "id": "dbQ0zyjqsraM"
   },
   "outputs": [],
   "source": [
    "!cp drive/MyDrive/kaggle.json ."
   ]
  },
  {
   "cell_type": "code",
   "execution_count": null,
   "metadata": {
    "id": "nqGabeNEYhYU"
   },
   "outputs": [],
   "source": [
    "# Then move kaggle.json into the folder where the API expects to find it.\n",
    "!mkdir -p ~/.kaggle/ && mv kaggle.json ~/.kaggle/ && chmod 600 ~/.kaggle/kaggle.json"
   ]
  },
  {
   "cell_type": "code",
   "execution_count": null,
   "metadata": {
    "colab": {
     "base_uri": "https://localhost:8080/"
    },
    "id": "XwHC3V90R-_h",
    "outputId": "cbf8d655-6bc8-4dcb-c2ac-7851504c0c3c"
   },
   "outputs": [
    {
     "name": "stdout",
     "output_type": "stream",
     "text": [
      "Requirement already satisfied: kaggle in /usr/local/lib/python3.7/dist-packages (1.5.12)\n",
      "Requirement already satisfied: certifi in /usr/local/lib/python3.7/dist-packages (from kaggle) (2021.10.8)\n",
      "Requirement already satisfied: six>=1.10 in /usr/local/lib/python3.7/dist-packages (from kaggle) (1.15.0)\n",
      "Requirement already satisfied: urllib3 in /usr/local/lib/python3.7/dist-packages (from kaggle) (1.24.3)\n",
      "Requirement already satisfied: requests in /usr/local/lib/python3.7/dist-packages (from kaggle) (2.23.0)\n",
      "Requirement already satisfied: python-slugify in /usr/local/lib/python3.7/dist-packages (from kaggle) (5.0.2)\n",
      "Requirement already satisfied: tqdm in /usr/local/lib/python3.7/dist-packages (from kaggle) (4.62.3)\n",
      "Requirement already satisfied: python-dateutil in /usr/local/lib/python3.7/dist-packages (from kaggle) (2.8.2)\n",
      "Requirement already satisfied: text-unidecode>=1.3 in /usr/local/lib/python3.7/dist-packages (from python-slugify->kaggle) (1.3)\n",
      "Requirement already satisfied: chardet<4,>=3.0.2 in /usr/local/lib/python3.7/dist-packages (from requests->kaggle) (3.0.4)\n",
      "Requirement already satisfied: idna<3,>=2.5 in /usr/local/lib/python3.7/dist-packages (from requests->kaggle) (2.10)\n"
     ]
    }
   ],
   "source": [
    "!pip install kaggle"
   ]
  },
  {
   "cell_type": "code",
   "execution_count": null,
   "metadata": {
    "colab": {
     "base_uri": "https://localhost:8080/"
    },
    "id": "Doe7aHiSYjeE",
    "outputId": "e14fda12-a32b-4720-f8ee-97e44ef3d1e0"
   },
   "outputs": [
    {
     "name": "stdout",
     "output_type": "stream",
     "text": [
      "Data package template written to: train_by_type/models/dataset-metadata.json\n"
     ]
    }
   ],
   "source": [
    "!kaggle datasets init -p train_by_type/models"
   ]
  },
  {
   "cell_type": "code",
   "execution_count": null,
   "metadata": {
    "colab": {
     "base_uri": "https://localhost:8080/"
    },
    "id": "PcOnGDGfYnRe",
    "outputId": "f791c698-8cb7-4cf7-a392-c62e9f11a15a"
   },
   "outputs": [
    {
     "name": "stdout",
     "output_type": "stream",
     "text": [
      "Starting upload for file cellpose_residual_on_style_on_concatenation_off_train_by_type_2021_12_21_08_56_18.429323_epoch_1001\n",
      "Warning: Looks like you're using an outdated API Version, please consider updating (server 1.5.12 / client 1.5.4)\n",
      "100% 25.3M/25.3M [00:05<00:00, 4.64MB/s]\n",
      "Upload successful: cellpose_residual_on_style_on_concatenation_off_train_by_type_2021_12_21_08_56_18.429323_epoch_1001 (25MB)\n",
      "Starting upload for file cellpose_residual_on_style_on_concatenation_off_train_by_type_2021_12_21_08_56_18.429323_epoch_1251\n",
      "100% 25.3M/25.3M [00:08<00:00, 3.04MB/s]\n",
      "Upload successful: cellpose_residual_on_style_on_concatenation_off_train_by_type_2021_12_21_08_56_18.429323_epoch_1251 (25MB)\n",
      "Starting upload for file cellpose_residual_on_style_on_concatenation_off_train_by_type_2021_12_21_08_56_18.429323_epoch_1\n",
      "100% 25.3M/25.3M [00:08<00:00, 3.21MB/s]\n",
      "Upload successful: cellpose_residual_on_style_on_concatenation_off_train_by_type_2021_12_21_08_56_18.429323_epoch_1 (25MB)\n",
      "Starting upload for file cellpose_residual_on_style_on_concatenation_off_train_by_type_2021_12_21_08_56_18.429323_epoch_501\n",
      "100% 25.3M/25.3M [00:05<00:00, 4.44MB/s]\n",
      "Upload successful: cellpose_residual_on_style_on_concatenation_off_train_by_type_2021_12_21_08_56_18.429323_epoch_501 (25MB)\n",
      "Starting upload for file cellpose_residual_on_style_on_concatenation_off_train_by_type_2021_12_21_08_56_18.429323_epoch_1999\n",
      "100% 25.3M/25.3M [00:06<00:00, 4.40MB/s]\n",
      "Upload successful: cellpose_residual_on_style_on_concatenation_off_train_by_type_2021_12_21_08_56_18.429323_epoch_1999 (25MB)\n",
      "Starting upload for file cellpose_residual_on_style_on_concatenation_off_train_by_type_2021_12_21_08_56_18.429323_epoch_1501\n",
      "100% 25.3M/25.3M [00:05<00:00, 4.85MB/s]\n",
      "Upload successful: cellpose_residual_on_style_on_concatenation_off_train_by_type_2021_12_21_08_56_18.429323_epoch_1501 (25MB)\n",
      "Starting upload for file cellpose_residual_on_style_on_concatenation_off_train_by_type_2021_12_21_08_56_18.429323_epoch_1999_size.npy\n",
      "100% 3.54k/3.54k [00:04<00:00, 729B/s]\n",
      "Upload successful: cellpose_residual_on_style_on_concatenation_off_train_by_type_2021_12_21_08_56_18.429323_epoch_1999_size.npy (4KB)\n",
      "Starting upload for file cellpose_residual_on_style_on_concatenation_off_train_by_type_2021_12_21_08_56_18.429323_epoch_751\n",
      "100% 25.3M/25.3M [00:09<00:00, 2.89MB/s]\n",
      "Upload successful: cellpose_residual_on_style_on_concatenation_off_train_by_type_2021_12_21_08_56_18.429323_epoch_751 (25MB)\n",
      "Starting upload for file cellpose_residual_on_style_on_concatenation_off_train_by_type_2021_12_21_08_56_18.429323_epoch_251\n",
      "100% 25.3M/25.3M [00:05<00:00, 4.89MB/s]\n",
      "Upload successful: cellpose_residual_on_style_on_concatenation_off_train_by_type_2021_12_21_08_56_18.429323_epoch_251 (25MB)\n",
      "Starting upload for file cellpose_residual_on_style_on_concatenation_off_train_by_type_2021_12_21_08_56_18.429323_epoch_1751\n",
      "100% 25.3M/25.3M [00:06<00:00, 4.33MB/s]\n",
      "Upload successful: cellpose_residual_on_style_on_concatenation_off_train_by_type_2021_12_21_08_56_18.429323_epoch_1751 (25MB)\n",
      "Your private Dataset is being created. Please check progress at https://www.kaggle.com/noeasywayout/cellpose-astro-diam30-2000ep\n"
     ]
    }
   ],
   "source": [
    "!kaggle datasets create -p train_by_type/models"
   ]
  }
 ],
 "metadata": {
  "accelerator": "GPU",
  "colab": {
   "collapsed_sections": [],
   "name": "cellpose_train_diam17_shsy5y_2000ep_trans_all.ipynb",
   "provenance": []
  },
  "kernelspec": {
   "display_name": "Python 3",
   "language": "python",
   "name": "python3"
  },
  "language_info": {
   "codemirror_mode": {
    "name": "ipython",
    "version": 3
   },
   "file_extension": ".py",
   "mimetype": "text/x-python",
   "name": "python",
   "nbconvert_exporter": "python",
   "pygments_lexer": "ipython3",
   "version": "3.7.3"
  },
  "widgets": {
   "application/vnd.jupyter.widget-state+json": {
    "1e78caea3b724211ab45d3ffb0d7195e": {
     "model_module": "@jupyter-widgets/controls",
     "model_module_version": "1.5.0",
     "model_name": "FloatProgressModel",
     "state": {
      "_dom_classes": [],
      "_model_module": "@jupyter-widgets/controls",
      "_model_module_version": "1.5.0",
      "_model_name": "FloatProgressModel",
      "_view_count": null,
      "_view_module": "@jupyter-widgets/controls",
      "_view_module_version": "1.5.0",
      "_view_name": "ProgressView",
      "bar_style": "success",
      "description": "",
      "description_tooltip": null,
      "layout": "IPY_MODEL_51a1b85735ec41d59ae7298e6e16366a",
      "max": 155,
      "min": 0,
      "orientation": "horizontal",
      "style": "IPY_MODEL_5af4a6620e3a4940ad3dc0f693f53054",
      "value": 155
     }
    },
    "225a1c58db844815b210cb971ff0a78f": {
     "model_module": "@jupyter-widgets/controls",
     "model_module_version": "1.5.0",
     "model_name": "HTMLModel",
     "state": {
      "_dom_classes": [],
      "_model_module": "@jupyter-widgets/controls",
      "_model_module_version": "1.5.0",
      "_model_name": "HTMLModel",
      "_view_count": null,
      "_view_module": "@jupyter-widgets/controls",
      "_view_module_version": "1.5.0",
      "_view_name": "HTMLView",
      "description": "",
      "description_tooltip": null,
      "layout": "IPY_MODEL_6849a43e04eb4c23ab126aff550032c9",
      "placeholder": "​",
      "style": "IPY_MODEL_2318731a71ae4e24b73d717978a36e62",
      "value": "100%"
     }
    },
    "2318731a71ae4e24b73d717978a36e62": {
     "model_module": "@jupyter-widgets/controls",
     "model_module_version": "1.5.0",
     "model_name": "DescriptionStyleModel",
     "state": {
      "_model_module": "@jupyter-widgets/controls",
      "_model_module_version": "1.5.0",
      "_model_name": "DescriptionStyleModel",
      "_view_count": null,
      "_view_module": "@jupyter-widgets/base",
      "_view_module_version": "1.2.0",
      "_view_name": "StyleView",
      "description_width": ""
     }
    },
    "51a1b85735ec41d59ae7298e6e16366a": {
     "model_module": "@jupyter-widgets/base",
     "model_module_version": "1.2.0",
     "model_name": "LayoutModel",
     "state": {
      "_model_module": "@jupyter-widgets/base",
      "_model_module_version": "1.2.0",
      "_model_name": "LayoutModel",
      "_view_count": null,
      "_view_module": "@jupyter-widgets/base",
      "_view_module_version": "1.2.0",
      "_view_name": "LayoutView",
      "align_content": null,
      "align_items": null,
      "align_self": null,
      "border": null,
      "bottom": null,
      "display": null,
      "flex": null,
      "flex_flow": null,
      "grid_area": null,
      "grid_auto_columns": null,
      "grid_auto_flow": null,
      "grid_auto_rows": null,
      "grid_column": null,
      "grid_gap": null,
      "grid_row": null,
      "grid_template_areas": null,
      "grid_template_columns": null,
      "grid_template_rows": null,
      "height": null,
      "justify_content": null,
      "justify_items": null,
      "left": null,
      "margin": null,
      "max_height": null,
      "max_width": null,
      "min_height": null,
      "min_width": null,
      "object_fit": null,
      "object_position": null,
      "order": null,
      "overflow": null,
      "overflow_x": null,
      "overflow_y": null,
      "padding": null,
      "right": null,
      "top": null,
      "visibility": null,
      "width": null
     }
    },
    "5af4a6620e3a4940ad3dc0f693f53054": {
     "model_module": "@jupyter-widgets/controls",
     "model_module_version": "1.5.0",
     "model_name": "ProgressStyleModel",
     "state": {
      "_model_module": "@jupyter-widgets/controls",
      "_model_module_version": "1.5.0",
      "_model_name": "ProgressStyleModel",
      "_view_count": null,
      "_view_module": "@jupyter-widgets/base",
      "_view_module_version": "1.2.0",
      "_view_name": "StyleView",
      "bar_color": null,
      "description_width": ""
     }
    },
    "61c0246a1f324e198bd6330eb89d8db3": {
     "model_module": "@jupyter-widgets/base",
     "model_module_version": "1.2.0",
     "model_name": "LayoutModel",
     "state": {
      "_model_module": "@jupyter-widgets/base",
      "_model_module_version": "1.2.0",
      "_model_name": "LayoutModel",
      "_view_count": null,
      "_view_module": "@jupyter-widgets/base",
      "_view_module_version": "1.2.0",
      "_view_name": "LayoutView",
      "align_content": null,
      "align_items": null,
      "align_self": null,
      "border": null,
      "bottom": null,
      "display": null,
      "flex": null,
      "flex_flow": null,
      "grid_area": null,
      "grid_auto_columns": null,
      "grid_auto_flow": null,
      "grid_auto_rows": null,
      "grid_column": null,
      "grid_gap": null,
      "grid_row": null,
      "grid_template_areas": null,
      "grid_template_columns": null,
      "grid_template_rows": null,
      "height": null,
      "justify_content": null,
      "justify_items": null,
      "left": null,
      "margin": null,
      "max_height": null,
      "max_width": null,
      "min_height": null,
      "min_width": null,
      "object_fit": null,
      "object_position": null,
      "order": null,
      "overflow": null,
      "overflow_x": null,
      "overflow_y": null,
      "padding": null,
      "right": null,
      "top": null,
      "visibility": null,
      "width": null
     }
    },
    "6849a43e04eb4c23ab126aff550032c9": {
     "model_module": "@jupyter-widgets/base",
     "model_module_version": "1.2.0",
     "model_name": "LayoutModel",
     "state": {
      "_model_module": "@jupyter-widgets/base",
      "_model_module_version": "1.2.0",
      "_model_name": "LayoutModel",
      "_view_count": null,
      "_view_module": "@jupyter-widgets/base",
      "_view_module_version": "1.2.0",
      "_view_name": "LayoutView",
      "align_content": null,
      "align_items": null,
      "align_self": null,
      "border": null,
      "bottom": null,
      "display": null,
      "flex": null,
      "flex_flow": null,
      "grid_area": null,
      "grid_auto_columns": null,
      "grid_auto_flow": null,
      "grid_auto_rows": null,
      "grid_column": null,
      "grid_gap": null,
      "grid_row": null,
      "grid_template_areas": null,
      "grid_template_columns": null,
      "grid_template_rows": null,
      "height": null,
      "justify_content": null,
      "justify_items": null,
      "left": null,
      "margin": null,
      "max_height": null,
      "max_width": null,
      "min_height": null,
      "min_width": null,
      "object_fit": null,
      "object_position": null,
      "order": null,
      "overflow": null,
      "overflow_x": null,
      "overflow_y": null,
      "padding": null,
      "right": null,
      "top": null,
      "visibility": null,
      "width": null
     }
    },
    "7497be27945542ce8ade4d2deb0b9cec": {
     "model_module": "@jupyter-widgets/controls",
     "model_module_version": "1.5.0",
     "model_name": "DescriptionStyleModel",
     "state": {
      "_model_module": "@jupyter-widgets/controls",
      "_model_module_version": "1.5.0",
      "_model_name": "DescriptionStyleModel",
      "_view_count": null,
      "_view_module": "@jupyter-widgets/base",
      "_view_module_version": "1.2.0",
      "_view_name": "StyleView",
      "description_width": ""
     }
    },
    "b3e175369b2b41da853929c4d64065c7": {
     "model_module": "@jupyter-widgets/controls",
     "model_module_version": "1.5.0",
     "model_name": "HBoxModel",
     "state": {
      "_dom_classes": [],
      "_model_module": "@jupyter-widgets/controls",
      "_model_module_version": "1.5.0",
      "_model_name": "HBoxModel",
      "_view_count": null,
      "_view_module": "@jupyter-widgets/controls",
      "_view_module_version": "1.5.0",
      "_view_name": "HBoxView",
      "box_style": "",
      "children": [
       "IPY_MODEL_225a1c58db844815b210cb971ff0a78f",
       "IPY_MODEL_1e78caea3b724211ab45d3ffb0d7195e",
       "IPY_MODEL_e634748cd23e437a834aa37fd2f13bdf"
      ],
      "layout": "IPY_MODEL_c2493a62c53745729bf326699e814dd4"
     }
    },
    "c2493a62c53745729bf326699e814dd4": {
     "model_module": "@jupyter-widgets/base",
     "model_module_version": "1.2.0",
     "model_name": "LayoutModel",
     "state": {
      "_model_module": "@jupyter-widgets/base",
      "_model_module_version": "1.2.0",
      "_model_name": "LayoutModel",
      "_view_count": null,
      "_view_module": "@jupyter-widgets/base",
      "_view_module_version": "1.2.0",
      "_view_name": "LayoutView",
      "align_content": null,
      "align_items": null,
      "align_self": null,
      "border": null,
      "bottom": null,
      "display": null,
      "flex": null,
      "flex_flow": null,
      "grid_area": null,
      "grid_auto_columns": null,
      "grid_auto_flow": null,
      "grid_auto_rows": null,
      "grid_column": null,
      "grid_gap": null,
      "grid_row": null,
      "grid_template_areas": null,
      "grid_template_columns": null,
      "grid_template_rows": null,
      "height": null,
      "justify_content": null,
      "justify_items": null,
      "left": null,
      "margin": null,
      "max_height": null,
      "max_width": null,
      "min_height": null,
      "min_width": null,
      "object_fit": null,
      "object_position": null,
      "order": null,
      "overflow": null,
      "overflow_x": null,
      "overflow_y": null,
      "padding": null,
      "right": null,
      "top": null,
      "visibility": null,
      "width": null
     }
    },
    "e634748cd23e437a834aa37fd2f13bdf": {
     "model_module": "@jupyter-widgets/controls",
     "model_module_version": "1.5.0",
     "model_name": "HTMLModel",
     "state": {
      "_dom_classes": [],
      "_model_module": "@jupyter-widgets/controls",
      "_model_module_version": "1.5.0",
      "_model_name": "HTMLModel",
      "_view_count": null,
      "_view_module": "@jupyter-widgets/controls",
      "_view_module_version": "1.5.0",
      "_view_name": "HTMLView",
      "description": "",
      "description_tooltip": null,
      "layout": "IPY_MODEL_61c0246a1f324e198bd6330eb89d8db3",
      "placeholder": "​",
      "style": "IPY_MODEL_7497be27945542ce8ade4d2deb0b9cec",
      "value": " 155/155 [00:00&lt;00:00, 429.57it/s]"
     }
    }
   }
  }
 },
 "nbformat": 4,
 "nbformat_minor": 1
}
